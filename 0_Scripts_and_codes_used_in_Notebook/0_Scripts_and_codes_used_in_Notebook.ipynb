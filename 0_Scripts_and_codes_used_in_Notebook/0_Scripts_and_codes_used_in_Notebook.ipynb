{
 "cells": [
  {
   "cell_type": "markdown",
   "id": "f60de3a4",
   "metadata": {},
   "source": [
    "> These are just some codes that I have used to test/run some things and have copy/pasted to get some useful data."
   ]
  },
  {
   "cell_type": "code",
   "execution_count": 1,
   "id": "7b7512dc",
   "metadata": {},
   "outputs": [
    {
     "ename": "ModuleNotFoundError",
     "evalue": "No module named 'astroquery'",
     "output_type": "error",
     "traceback": [
      "\u001b[0;31m---------------------------------------------------------------------------\u001b[0m",
      "\u001b[0;31mModuleNotFoundError\u001b[0m                       Traceback (most recent call last)",
      "Input \u001b[0;32mIn [1]\u001b[0m, in \u001b[0;36m<cell line: 5>\u001b[0;34m()\u001b[0m\n\u001b[1;32m      3\u001b[0m \u001b[38;5;28;01mimport\u001b[39;00m \u001b[38;5;21;01mastropy\u001b[39;00m\u001b[38;5;21;01m.\u001b[39;00m\u001b[38;5;21;01munits\u001b[39;00m \u001b[38;5;28;01mas\u001b[39;00m \u001b[38;5;21;01mu\u001b[39;00m\n\u001b[1;32m      4\u001b[0m \u001b[38;5;28;01mfrom\u001b[39;00m \u001b[38;5;21;01mastropy\u001b[39;00m\u001b[38;5;21;01m.\u001b[39;00m\u001b[38;5;21;01mcoordinates\u001b[39;00m \u001b[38;5;28;01mimport\u001b[39;00m SkyCoord\n\u001b[0;32m----> 5\u001b[0m \u001b[38;5;28;01mfrom\u001b[39;00m \u001b[38;5;21;01mastroquery\u001b[39;00m\u001b[38;5;21;01m.\u001b[39;00m\u001b[38;5;21;01mgaia\u001b[39;00m \u001b[38;5;28;01mimport\u001b[39;00m Gaia\n\u001b[1;32m      7\u001b[0m \u001b[38;5;66;03m### Get data via Astroquery\u001b[39;00m\n\u001b[1;32m      8\u001b[0m Gaia\u001b[38;5;241m.\u001b[39mMAIN_GAIA_TABLE \u001b[38;5;241m=\u001b[39m \u001b[38;5;124m\"\u001b[39m\u001b[38;5;124mgaiaedr3.gaia_source\u001b[39m\u001b[38;5;124m\"\u001b[39m \u001b[38;5;66;03m# Select early Data Release 3\u001b[39;00m\n",
      "\u001b[0;31mModuleNotFoundError\u001b[0m: No module named 'astroquery'"
     ]
    }
   ],
   "source": [
    "### Print ready to copy/paste table (Markdown format)\n",
    "\n",
    "import astropy.units as u\n",
    "from astropy.coordinates import SkyCoord\n",
    "from astroquery.gaia import Gaia\n",
    "\n",
    "### Get data via Astroquery\n",
    "Gaia.MAIN_GAIA_TABLE = \"gaiaedr3.gaia_source\" # Select early Data Release 3\n",
    "Gaia.ROW_LIMIT = 10  # Set the number of max rows; -1 means 'no limit'\n",
    "\n",
    "### Check coordinates for your object\n",
    "### Important to check/edit before running the cell\n",
    "coord = SkyCoord(ra=280, dec=-60, unit=(u.degree, u.degree), frame='icrs')\n",
    "radius = u.Quantity(1.0, u.deg)\n",
    "j = Gaia.cone_search_async(coord, radius)\n",
    "\n",
    "### Print every column with its respective info. Copy/paste it into Markdown format to get a table\n",
    "r = j.get_results()\n",
    "\n",
    "output = \"\"\n",
    "for j in range(0, len(r.colnames)):\n",
    "    prop = r.colnames[j]\n",
    "    \n",
    "    if r[prop].info.unit == None:\n",
    "        r[prop].info.unit = \"--\"\n",
    "    \n",
    "    output += f\"| {j} |{r[prop].info.name} | {r[prop].info.dtype} | {r[prop].info.unit} | {r[prop].info.description} |\\n\"\n",
    "    \n",
    "print(output)"
   ]
  },
  {
   "cell_type": "code",
   "execution_count": null,
   "id": "436688b0",
   "metadata": {},
   "outputs": [],
   "source": [
    "from platform import python_version\n",
    "\n",
    "print(python_version())\n"
   ]
  },
  {
   "cell_type": "code",
   "execution_count": null,
   "id": "2ac09afd",
   "metadata": {},
   "outputs": [],
   "source": [
    "#Read a JSON file\n",
    "import json\n",
    "from types import SimpleNamespace\n",
    "\n",
    "json_file_path = \"example.json\"\n",
    "\n",
    "with open(json_file_path, 'r') as j:\n",
    "     data = json.loads(j.read())\n",
    "\n",
    "print(data)"
   ]
  },
  {
   "cell_type": "code",
   "execution_count": null,
   "id": "22a1e90b",
   "metadata": {},
   "outputs": [],
   "source": [
    "#Loads a JSON file into a custom dataclass\n",
    "\n",
    "from dataclasses import dataclass\n",
    "from dataclass_wizard import JSONWizard\n",
    "import json\n",
    "\n",
    "@dataclass\n",
    "class ParametersList(JSONWizard):\n",
    "    globular_cluster: list['ParametersGC']\n",
    "        \n",
    "@dataclass\n",
    "class ParametersGC:\n",
    "    name: str\n",
    "    PM_plot_x_axis_min: float\n",
    "    PM_plot_x_axis_max: float\n",
    "    PM_plot_y_axis_min: float\n",
    "    PM_plot_x_axis_min: float\n",
    "\n",
    "json_file_path = \"example.json\"\n",
    "\n",
    "with open(json_file_path, 'r') as j:\n",
    "     data = json.loads(j.read())\n",
    "        \n",
    "\n",
    "object = ParametersList.from_dict(data)\n",
    "\n",
    "print(type(object))\n",
    "\n",
    "print(object.globular_cluster[0])\n",
    "\n",
    "for algo in object.globular_cluster:\n",
    "    print(algo.name, type(algo.name))\n",
    "    print(float(algo.PM_plot_x_axis_max), type(algo.name))"
   ]
  },
  {
   "cell_type": "code",
   "execution_count": null,
   "id": "b908072c",
   "metadata": {},
   "outputs": [],
   "source": []
  }
 ],
 "metadata": {
  "kernelspec": {
   "display_name": "Python 3 (ipykernel)",
   "language": "python",
   "name": "python3"
  },
  "language_info": {
   "codemirror_mode": {
    "name": "ipython",
    "version": 3
   },
   "file_extension": ".py",
   "mimetype": "text/x-python",
   "name": "python",
   "nbconvert_exporter": "python",
   "pygments_lexer": "ipython3",
   "version": "3.10.4"
  }
 },
 "nbformat": 4,
 "nbformat_minor": 5
}
