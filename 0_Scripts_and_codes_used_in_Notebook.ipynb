{
 "cells": [
  {
   "cell_type": "markdown",
   "id": "f60de3a4",
   "metadata": {},
   "source": [
    "> These are just some codes that I have used to test/run some things and have copy/pasted to get some useful data."
   ]
  },
  {
   "cell_type": "code",
   "execution_count": 5,
   "id": "7b7512dc",
   "metadata": {},
   "outputs": [
    {
     "name": "stdout",
     "output_type": "stream",
     "text": [
      "INFO: Query finished. [astroquery.utils.tap.core]\n",
      "| 0 |solution_id | int64 | -- | Solution Identifier |\n",
      "| 1 |DESIGNATION | object | -- | Unique source designation (unique across all Data Releases) |\n",
      "| 2 |source_id | int64 | -- | Unique source identifier (unique within a particular Data Release) |\n",
      "| 3 |random_index | int64 | -- | Random index used to select subsets |\n",
      "| 4 |ref_epoch | float64 | yr | Reference epoch |\n",
      "| 5 |ra | float64 | deg | Right ascension |\n",
      "| 6 |ra_error | float32 | mas | Standard error of right ascension |\n",
      "| 7 |dec | float64 | deg | Declination |\n",
      "| 8 |dec_error | float32 | mas | Standard error of declination |\n",
      "| 9 |parallax | float64 | mas | Parallax |\n",
      "| 10 |parallax_error | float32 | mas | Standard error of parallax |\n",
      "| 11 |parallax_over_error | float32 | -- | Parallax divided by its standard error |\n",
      "| 12 |pm | float32 | mas / yr | Total proper motion |\n",
      "| 13 |pmra | float64 | mas / yr | Proper motion in right ascension direction |\n",
      "| 14 |pmra_error | float32 | mas / yr | Standard error of proper motion in right ascension direction |\n",
      "| 15 |pmdec | float64 | mas / yr | Proper motion in declination direction |\n",
      "| 16 |pmdec_error | float32 | mas / yr | Standard error of proper motion in declination direction |\n",
      "| 17 |ra_dec_corr | float32 | -- | Correlation between right ascension and declination |\n",
      "| 18 |ra_parallax_corr | float32 | -- | Correlation between right ascension and parallax |\n",
      "| 19 |ra_pmra_corr | float32 | -- | Correlation between right ascension and proper motion in right ascension |\n",
      "| 20 |ra_pmdec_corr | float32 | -- | Correlation between right ascension and proper motion in declination |\n",
      "| 21 |dec_parallax_corr | float32 | -- | Correlation between declination and parallax |\n",
      "| 22 |dec_pmra_corr | float32 | -- | Correlation between declination and proper motion in right ascension |\n",
      "| 23 |dec_pmdec_corr | float32 | -- | Correlation between declination and proper motion in declination |\n",
      "| 24 |parallax_pmra_corr | float32 | -- | Correlation between parallax and proper motion in right ascension |\n",
      "| 25 |parallax_pmdec_corr | float32 | -- | Correlation between parallax and proper motion in declination |\n",
      "| 26 |pmra_pmdec_corr | float32 | -- | Correlation between proper motion in right ascension and proper motion in declination |\n",
      "| 27 |astrometric_n_obs_al | int16 | -- | Total number of observations AL |\n",
      "| 28 |astrometric_n_obs_ac | int16 | -- | Total number of observations AC |\n",
      "| 29 |astrometric_n_good_obs_al | int16 | -- | Number of good observations AL |\n",
      "| 30 |astrometric_n_bad_obs_al | int16 | -- | Number of bad observations AL |\n",
      "| 31 |astrometric_gof_al | float32 | -- | Goodness of fit statistic of model wrt along-scan observations |\n",
      "| 32 |astrometric_chi2_al | float32 | -- | AL chi-square value |\n",
      "| 33 |astrometric_excess_noise | float32 | mas | Excess noise of the source |\n",
      "| 34 |astrometric_excess_noise_sig | float32 | -- | Significance of excess noise |\n",
      "| 35 |astrometric_params_solved | int16 | -- | Which parameters have been solved for? |\n",
      "| 36 |astrometric_primary_flag | bool | -- | Primary or seconday |\n",
      "| 37 |nu_eff_used_in_astrometry | float32 | 1 / um | Effective wavenumber of the source used in the astrometric solution |\n",
      "| 38 |pseudocolour | float32 | 1 / um | Astrometrically estimated pseudocolour of the source |\n",
      "| 39 |pseudocolour_error | float32 | 1 / um | Standard error of the pseudocolour of the source |\n",
      "| 40 |ra_pseudocolour_corr | float32 | -- | Correlation between right ascension and pseudocolour |\n",
      "| 41 |dec_pseudocolour_corr | float32 | -- | Correlation between declination and pseudocolour |\n",
      "| 42 |parallax_pseudocolour_corr | float32 | -- | Correlation between parallax and pseudocolour |\n",
      "| 43 |pmra_pseudocolour_corr | float32 | -- | Correlation between proper motion in right asension and pseudocolour |\n",
      "| 44 |pmdec_pseudocolour_corr | float32 | -- | Correlation between proper motion in declination and pseudocolour |\n",
      "| 45 |astrometric_matched_transits | int16 | -- | Matched FOV transits used in the AGIS solution |\n",
      "| 46 |visibility_periods_used | int16 | -- | Number of visibility periods used in Astrometric solution |\n",
      "| 47 |astrometric_sigma5d_max | float32 | mas | The longest semi-major axis of the 5-d error ellipsoid |\n",
      "| 48 |matched_transits | int16 | -- | The number of transits matched to this source |\n",
      "| 49 |new_matched_transits | int16 | -- | The number of transits newly incorporated into an existing source in the current cycle |\n",
      "| 50 |matched_transits_removed | int16 | -- | The number of transits removed from an existing source in the current cycle |\n",
      "| 51 |ipd_gof_harmonic_amplitude | float32 | -- | Amplitude of the IPD GoF versus position angle of scan |\n",
      "| 52 |ipd_gof_harmonic_phase | float32 | deg | Phase of the IPD GoF versus position angle of scan |\n",
      "| 53 |ipd_frac_multi_peak | int16 | -- | Percent of successful-IPD windows with more than one peak |\n",
      "| 54 |ipd_frac_odd_win | int16 | -- | Percent of transits with truncated windows or multiple gate |\n",
      "| 55 |ruwe | float32 | -- | Renormalised unit weight error |\n",
      "| 56 |scan_direction_strength_k1 | float32 | -- | Degree of concentration of scan directions across the source |\n",
      "| 57 |scan_direction_strength_k2 | float32 | -- | Degree of concentration of scan directions across the source |\n",
      "| 58 |scan_direction_strength_k3 | float32 | -- | Degree of concentration of scan directions across the source |\n",
      "| 59 |scan_direction_strength_k4 | float32 | -- | Degree of concentration of scan directions across the source |\n",
      "| 60 |scan_direction_mean_k1 | float32 | deg | Mean position angle of scan directions across the source |\n",
      "| 61 |scan_direction_mean_k2 | float32 | deg | Mean position angle of scan directions across the source |\n",
      "| 62 |scan_direction_mean_k3 | float32 | deg | Mean position angle of scan directions across the source |\n",
      "| 63 |scan_direction_mean_k4 | float32 | deg | Mean position angle of scan directions across the source |\n",
      "| 64 |duplicated_source | bool | -- | Source with multiple source identifiers |\n",
      "| 65 |phot_g_n_obs | int16 | -- | Number of observations contributing to G photometry |\n",
      "| 66 |phot_g_mean_flux | float64 | electron / s | G-band mean flux |\n",
      "| 67 |phot_g_mean_flux_error | float32 | electron / s | Error on G-band mean flux |\n",
      "| 68 |phot_g_mean_flux_over_error | float32 | -- | G-band mean flux divided by its error |\n",
      "| 69 |phot_g_mean_mag | float32 | mag | G-band mean magnitude |\n",
      "| 70 |phot_bp_n_obs | int16 | -- | Number of observations contributing to BP photometry |\n",
      "| 71 |phot_bp_mean_flux | float64 | electron / s | Integrated BP mean flux |\n",
      "| 72 |phot_bp_mean_flux_error | float32 | electron / s | Error on the integrated BP mean flux |\n",
      "| 73 |phot_bp_mean_flux_over_error | float32 | -- | Integrated BP mean flux divided by its error |\n",
      "| 74 |phot_bp_mean_mag | float32 | mag | Integrated BP mean magnitude |\n",
      "| 75 |phot_rp_n_obs | int16 | -- | Number of observations contributing to RP photometry |\n",
      "| 76 |phot_rp_mean_flux | float64 | electron / s | Integrated RP mean flux |\n",
      "| 77 |phot_rp_mean_flux_error | float32 | electron / s | Error on the integrated RP mean flux |\n",
      "| 78 |phot_rp_mean_flux_over_error | float32 | -- | Integrated RP mean flux divided by its error |\n",
      "| 79 |phot_rp_mean_mag | float32 | mag | Integrated RP mean magnitude |\n",
      "| 80 |phot_bp_n_contaminated_transits | int16 | -- | Number of BP contaminated transits |\n",
      "| 81 |phot_bp_n_blended_transits | int16 | -- | Number of BP blended transits |\n",
      "| 82 |phot_rp_n_contaminated_transits | int16 | -- | Number of RP contaminated transits |\n",
      "| 83 |phot_rp_n_blended_transits | int16 | -- | Number of RP blended transits |\n",
      "| 84 |phot_proc_mode | int16 | -- | Photometry processing mode |\n",
      "| 85 |phot_bp_rp_excess_factor | float32 | -- | BP/RP excess factor |\n",
      "| 86 |bp_rp | float32 | mag | BP - RP colour |\n",
      "| 87 |bp_g | float32 | mag | BP - G colour |\n",
      "| 88 |g_rp | float32 | mag | G - RP colour |\n",
      "| 89 |dr2_radial_velocity | float32 | km / s | Radial velocity from Gaia DR2 |\n",
      "| 90 |dr2_radial_velocity_error | float32 | km / s | Radial velocity error from Gaia DR2 |\n",
      "| 91 |dr2_rv_nb_transits | int16 | -- | Number of transits used to compute radial velocity in Gaia DR2 |\n",
      "| 92 |dr2_rv_template_teff | float32 | K | Teff of the template used to compute radial velocity in Gaia DR2 |\n",
      "| 93 |dr2_rv_template_logg | float32 | log(cm.s**-2) | logg of the template used to compute radial velocity in Gaia DR2 |\n",
      "| 94 |dr2_rv_template_fe_h | float32 | dex | Fe/H of the template used to compute radial velocity in Gaia DR2 |\n",
      "| 95 |l | float64 | deg | Galactic longitude |\n",
      "| 96 |b | float64 | deg | Galactic latitude |\n",
      "| 97 |ecl_lon | float64 | deg | Ecliptic longitude |\n",
      "| 98 |ecl_lat | float64 | deg | Ecliptic latitude |\n",
      "| 99 |dist | float64 | -- | None |\n",
      "\n"
     ]
    }
   ],
   "source": [
    "### Print ready to copy/paste table (Markdown format)\n",
    "\n",
    "import astropy.units as u\n",
    "from astropy.coordinates import SkyCoord\n",
    "from astroquery.gaia import Gaia\n",
    "\n",
    "### Get data via Astroquery\n",
    "Gaia.MAIN_GAIA_TABLE = \"gaiaedr3.gaia_source\" # Select early Data Release 3\n",
    "Gaia.ROW_LIMIT = -1  # Set the number of max rows; -1 means 'no limit'\n",
    "\n",
    "### Check coordinates for your object\n",
    "### Important to check/edit before running the cell\n",
    "coord = SkyCoord(ra=280, dec=-60, unit=(u.degree, u.degree), frame='icrs')\n",
    "radius = u.Quantity(1.0, u.deg)\n",
    "j = Gaia.cone_search_async(coord, radius)\n",
    "\n",
    "### Print every column with its respective info. Copy/paste it into Markdown format to get a table\n",
    "r = j.get_results()\n",
    "\n",
    "output = \"\"\n",
    "for j in range(0, len(r.colnames)):\n",
    "    prop = r.colnames[j]\n",
    "    \n",
    "    if r[prop].info.unit == None:\n",
    "        r[prop].info.unit = \"--\"\n",
    "    \n",
    "    output += f\"| {j} |{r[prop].info.name} | {r[prop].info.dtype} | {r[prop].info.unit} | {r[prop].info.description} |\\n\"\n",
    "    \n",
    "print(output)"
   ]
  },
  {
   "cell_type": "code",
   "execution_count": 1,
   "id": "436688b0",
   "metadata": {},
   "outputs": [
    {
     "name": "stdout",
     "output_type": "stream",
     "text": [
      "3.10.4\n"
     ]
    }
   ],
   "source": [
    "from platform import python_version\n",
    "\n",
    "print(python_version())\n"
   ]
  },
  {
   "cell_type": "code",
   "execution_count": 3,
   "id": "e6d84a35",
   "metadata": {},
   "outputs": [
    {
     "name": "stdout",
     "output_type": "stream",
     "text": [
      "3.10.4\n"
     ]
    }
   ],
   "source": [
    "from platform import python_version\n",
    "\n",
    "print(python_version())"
   ]
  },
  {
   "cell_type": "code",
   "execution_count": null,
   "id": "2ac09afd",
   "metadata": {},
   "outputs": [],
   "source": []
  }
 ],
 "metadata": {
  "kernelspec": {
   "display_name": "Python 3 (ipykernel)",
   "language": "python",
   "name": "python3"
  },
  "language_info": {
   "codemirror_mode": {
    "name": "ipython",
    "version": 3
   },
   "file_extension": ".py",
   "mimetype": "text/x-python",
   "name": "python",
   "nbconvert_exporter": "python",
   "pygments_lexer": "ipython3",
   "version": "3.10.4"
  }
 },
 "nbformat": 4,
 "nbformat_minor": 5
}
