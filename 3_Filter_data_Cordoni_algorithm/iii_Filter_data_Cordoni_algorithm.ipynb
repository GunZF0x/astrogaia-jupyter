{
 "cells": [
  {
   "cell_type": "markdown",
   "id": "48226608",
   "metadata": {},
   "source": [
    "# III. Filter data using Cordoni's algorithm\n",
    "\n",
    "> Francisco Carrasco Varela - Pontificia Universidad Católica de Chile (PUC) - ffcarrasco@uc.cl ⭐\n",
    "\n",
    "<center>\n",
    "<mark>The following Jupyter Notebook is used to extract and work with Gaia DR3 data<br>\n",
    "    (and other data releases) </mark>\n",
    "</center>"
   ]
  },
  {
   "cell_type": "code",
   "execution_count": 2,
   "id": "226041bc",
   "metadata": {},
   "outputs": [],
   "source": [
    "# Import all the libraries we will need\n",
    "\n",
    "%matplotlib inline\n",
    "from dataclasses import dataclass, field\n",
    "import matplotlib.pyplot as plt\n",
    "import matplotlib.patches as patches\n",
    "import matplotlib\n",
    "import numpy as np\n",
    "import os\n",
    "from astropy.io import ascii\n",
    "from astropy.table import vstack, Table\n",
    "\n",
    "import sys\n",
    "sys.path.insert(0, '../Scripts/')\n",
    "import Parameters as PR"
   ]
  },
  {
   "cell_type": "code",
   "execution_count": 31,
   "id": "fc1e3461",
   "metadata": {},
   "outputs": [
    {
     "name": "stdout",
     "output_type": "stream",
     "text": [
      "You must fully run the previous step in this Notebook and create a file with filtered data before running this cell.\n"
     ]
    },
    {
     "ename": "SystemExit",
     "evalue": "Create filtered file in previous Notebook step and retry.",
     "output_type": "error",
     "traceback": [
      "An exception has occurred, use %tb to see the full traceback.\n",
      "\u001b[0;31mSystemExit\u001b[0m\u001b[0;31m:\u001b[0m Create filtered file in previous Notebook step and retry.\n"
     ]
    },
    {
     "name": "stderr",
     "output_type": "stream",
     "text": [
      "/home/panchitoz/.local/lib/python3.10/site-packages/IPython/core/interactiveshell.py:3406: UserWarning: To exit: use 'exit', 'quit', or Ctrl-D.\n",
      "  warn(\"To exit: use 'exit', 'quit', or Ctrl-D.\", stacklevel=1)\n"
     ]
    }
   ],
   "source": [
    "def check_if_file_exists(filename_path: str) -> None:\n",
    "    \"\"\"\n",
    "    Checks if a file with filtered data that should have been created in the previous step\n",
    "    of this Notebook is created. If it is not created it will exit the program.\n",
    "    \"\"\"\n",
    "    isExist = os.path.exists(filename_path)\n",
    "    if not isExist:\n",
    "        print(\"You must fully run the previous step in this Notebook and create a file with \", end='')\n",
    "        print(\"filtered data before running this cell.\")\n",
    "        sys.exit(\"Create filtered file in previous Notebook step and retry.\")\n",
    "    return\n",
    "\n",
    "dir_path = f\"../Objects/{obj.name.upper()}/\"\n",
    "save_filename = f\"2_{obj.name.upper()}_f_data.dat\"\n",
    "\n",
    "filename_filtered_path = f\".{dir_path}{save_filename}\"\n",
    "\n",
    "# Check if the filtered file created in the previous step of thi Notebook exists\n",
    "check_if_file_exists(filename_filtered_path)\n",
    "\n",
    "gaia_data = Table.read(filename_filtered_path, format='ascii.ecsv') # get data from previous Notebook step\n",
    "print('Data read sucessfully')"
   ]
  },
  {
   "cell_type": "code",
   "execution_count": 24,
   "id": "8504360a",
   "metadata": {},
   "outputs": [
    {
     "name": "stdout",
     "output_type": "stream",
     "text": [
      "Object detected succesfully!\n",
      "------------------------------------------------------------\n",
      "Object name: NGC104\n",
      "Mean Proper Motion RA (mas/yr): 5.237 +- 0.039\n",
      "Mean Proper Motion DEC (mas/yr): -2.524 +- 0.039\n",
      "------------------------------------------------------------\n"
     ]
    }
   ],
   "source": [
    "# Get data from Vasiliev (2019) file\n",
    "\n",
    "###################################################\n",
    "object_name = \"NGC104\"  # <--- EDITABLE\n",
    "vasiliev_file = \"../ObservedData/Vasiliev_2019_Gaia_parameters.dat\"\n",
    "###################################################\n",
    "\n",
    "\n",
    "data_list = PR.get_GC_params(vasiliev_file)\n",
    "obj, success = PR.get_selected_GC(object_name, data_list)\n",
    "\n",
    "if success:\n",
    "    n_times = 60\n",
    "    print(\"Object detected succesfully!\")\n",
    "    print(\"-\"*n_times)\n",
    "    print(f\"Object name: {obj.name}\")\n",
    "    print(f\"Mean Proper Motion RA (mas/yr): {obj.pm_RA} +- {obj.err_pm_RA}\")\n",
    "    print(f\"Mean Proper Motion DEC (mas/yr): {obj.pm_DEC} +- {obj.err_pm_DEC}\")\n",
    "    print(\"-\"*n_times)"
   ]
  },
  {
   "cell_type": "code",
   "execution_count": 30,
   "id": "25c86e16",
   "metadata": {},
   "outputs": [
    {
     "name": "stdout",
     "output_type": "stream",
     "text": [
      "values are -10.0 19.0 2.9\n",
      "Bin number -> 0: [-10.0, -7.1]\n",
      "Bin number -> 1: [-7.1, -4.2]\n",
      "Bin number -> 2: [-4.2, -1.3000000000000007]\n",
      "Bin number -> 3: [-1.3000000000000007, 1.5999999999999996]\n",
      "Bin number -> 4: [1.5999999999999996, 4.5]\n",
      "Bin number -> 5: [4.5, 7.399999999999999]\n",
      "Bin number -> 6: [7.399999999999999, 10.3]\n",
      "Bin number -> 7: [10.3, 13.2]\n",
      "Bin number -> 8: [13.2, 16.099999999999998]\n",
      "Bin number -> 9: [16.099999999999998, 19.0]\n",
      "TotalBins(bins=[Bin(ID=0, params=[], minVal_G_RP=-10.0, maxVal_G_RP=-7.1), Bin(ID=0, params=[], minVal_G_RP=-7.1, maxVal_G_RP=-4.2), Bin(ID=0, params=[], minVal_G_RP=-4.2, maxVal_G_RP=-1.3000000000000007), Bin(ID=0, params=[], minVal_G_RP=-1.3000000000000007, maxVal_G_RP=1.5999999999999996), Bin(ID=0, params=[], minVal_G_RP=1.5999999999999996, maxVal_G_RP=4.5), Bin(ID=0, params=[], minVal_G_RP=4.5, maxVal_G_RP=7.399999999999999), Bin(ID=0, params=[], minVal_G_RP=7.399999999999999, maxVal_G_RP=10.3), Bin(ID=0, params=[], minVal_G_RP=10.3, maxVal_G_RP=13.2), Bin(ID=0, params=[], minVal_G_RP=13.2, maxVal_G_RP=16.099999999999998), Bin(ID=0, params=[], minVal_G_RP=16.099999999999998, maxVal_G_RP=19.0)])\n",
      "Bin(ID=0, params=[], minVal_G_RP=-10.0, maxVal_G_RP=-7.1)\n"
     ]
    }
   ],
   "source": [
    "def getBinSize(values: list[float], \n",
    "               numberOfDivisions: int\n",
    "              ) -> (float, float, float):\n",
    "    \"\"\"\n",
    "    Obtains the maximum and minimum value of a list and returns the difference value\n",
    "    between each number that results dividing the max - min divided into N parts,\n",
    "    i.e., bin size. \n",
    "    Returns the minimum, maximum and size of each bin after dividing this interval\n",
    "    into N parts.\n",
    "    \"\"\"\n",
    "    assert (numberOfDivisions != 0), \"You cannot divide by zero\"\n",
    "    assert (numberOfDivisions != 1),  \"Dividing by 1 division is nonsense\"\n",
    "    \n",
    "    maxValue = np.amax(values)\n",
    "    minValue = np.amin(values)\n",
    "\n",
    "    return maxValue, minValue, (maxValue - minValue)/ (1.0*numberOfDivisions)\n",
    "\n",
    "@dataclass\n",
    "class parameterList:\n",
    "    G_BP: list[float] = field(default_factory=list)\n",
    "    G_RP: list[float] = field(default_factory=list)\n",
    "    as_gof_al: list[float] = field(default_factory=list)\n",
    "    parallax: list[float] = field(default_factory=list)\n",
    "        \n",
    "    \n",
    "\n",
    "@dataclass(kw_only=True)\n",
    "class Bin:\n",
    "    ID: int = 0\n",
    "    params: parameterList = field(default_factory=list)\n",
    "    minVal_G_RP: float \n",
    "    maxVal_G_RP: float\n",
    "\n",
    "\n",
    "@dataclass(kw_only=True)\n",
    "class TotalBins:\n",
    "    bins: list[Bin] = field(default_factory=list)\n",
    "    \n",
    "test = [-10., 19., -4., -5., -7., 5., 6., 3., 9., 15., 18.,0.]    \n",
    "nDiv = 10\n",
    "maxVal, minVal, binVal = getBinSize(test, nDiv)\n",
    "\n",
    "print(\"values are\", minVal, maxVal, binVal)\n",
    "\n",
    "totBins = TotalBins()\n",
    "\n",
    "for j in range(0, nDiv):\n",
    "    minMag_G_RP = minVal+(binVal * j)\n",
    "    maxMag_G_RP = minVal + (binVal *(j+1))\n",
    "    print(f'Bin number -> {j}: [{minVal+(binVal * j)}, {minVal + (binVal *(j+1))}]')\n",
    "    newBin = Bin(minVal_G_RP=minMag_G_RP, maxVal_G_RP=maxMag_G_RP)\n",
    "    for data in test:\n",
    "        if minMag_G_RP <= data < maxMag_G_RP:\n",
    "            \n",
    "    totBins.bins.append(newBin)\n",
    "    \n",
    "print(totBins)\n",
    "print(totBins.bins[0])"
   ]
  },
  {
   "cell_type": "code",
   "execution_count": 26,
   "id": "13628dd6",
   "metadata": {},
   "outputs": [
    {
     "data": {
      "text/plain": [
       "49.900000000000034"
      ]
     },
     "execution_count": 26,
     "metadata": {},
     "output_type": "execute_result"
    }
   ],
   "source": [
    "499.0 - 449.09999999999997"
   ]
  },
  {
   "cell_type": "code",
   "execution_count": null,
   "id": "c6663ec5",
   "metadata": {},
   "outputs": [],
   "source": []
  }
 ],
 "metadata": {
  "kernelspec": {
   "display_name": "Python 3 (ipykernel)",
   "language": "python",
   "name": "python3"
  },
  "language_info": {
   "codemirror_mode": {
    "name": "ipython",
    "version": 3
   },
   "file_extension": ".py",
   "mimetype": "text/x-python",
   "name": "python",
   "nbconvert_exporter": "python",
   "pygments_lexer": "ipython3",
   "version": "3.10.4"
  }
 },
 "nbformat": 4,
 "nbformat_minor": 5
}
