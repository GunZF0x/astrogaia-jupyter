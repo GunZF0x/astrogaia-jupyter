{
 "cells": [
  {
   "cell_type": "markdown",
   "id": "48226608",
   "metadata": {},
   "source": [
    "# III. Filter data using Cordoni's algorithm\n",
    "\n",
    "> Francisco Carrasco Varela - Pontificia Universidad Católica de Chile (PUC) - ffcarrasco@uc.cl ⭐\n",
    "\n",
    "<center>\n",
    "<mark>The following Jupyter Notebook is used to extract and work with Gaia DR3 data<br>\n",
    "    (and other data releases) </mark>\n",
    "</center>"
   ]
  },
  {
   "cell_type": "code",
   "execution_count": 3,
   "id": "226041bc",
   "metadata": {},
   "outputs": [],
   "source": [
    "# Import all the libraries we will need\n",
    "\n",
    "%matplotlib inline\n",
    "from dataclasses import dataclass, field\n",
    "import matplotlib.pyplot as plt\n",
    "import matplotlib.patches as patches\n",
    "import matplotlib\n",
    "import numpy as np\n",
    "import os\n",
    "from astropy.io import ascii\n",
    "from astropy.table import vstack, Table\n",
    "import Parameters as PR"
   ]
  },
  {
   "cell_type": "code",
   "execution_count": 4,
   "id": "8504360a",
   "metadata": {},
   "outputs": [
    {
     "name": "stdout",
     "output_type": "stream",
     "text": [
      "Object detected succesfully!\n",
      "------------------------------------------------------------\n",
      "Object name: NGC104\n",
      "Mean Proper Motion RA (mas/yr): 5.237 +- 0.039\n",
      "Mean Proper Motion DEC (mas/yr): -2.524 +- 0.039\n",
      "------------------------------------------------------------\n"
     ]
    }
   ],
   "source": [
    "# Get data from Vasiliev (2019) file\n",
    "\n",
    "###################################################\n",
    "object_name = \"NGC104\"  # <--- EDITABLE\n",
    "vasiliev_file = \"Vasiliev_2019_Gaia_parameters.dat\"\n",
    "###################################################\n",
    "\n",
    "\n",
    "data_list = PR.get_GC_params(vasiliev_file)\n",
    "obj, success = PR.get_selected_GC(object_name, data_list)\n",
    "\n",
    "if success:\n",
    "    n_times = 60\n",
    "    print(\"Object detected succesfully!\")\n",
    "    print(\"-\"*n_times)\n",
    "    print(f\"Object name: {obj.name}\")\n",
    "    print(f\"Mean Proper Motion RA (mas/yr): {obj.pm_RA} +- {obj.err_pm_RA}\")\n",
    "    print(f\"Mean Proper Motion DEC (mas/yr): {obj.pm_DEC} +- {obj.err_pm_DEC}\")\n",
    "    print(\"-\"*n_times)"
   ]
  },
  {
   "cell_type": "code",
   "execution_count": null,
   "id": "25c86e16",
   "metadata": {},
   "outputs": [],
   "source": []
  }
 ],
 "metadata": {
  "kernelspec": {
   "display_name": "Python 3 (ipykernel)",
   "language": "python",
   "name": "python3"
  },
  "language_info": {
   "codemirror_mode": {
    "name": "ipython",
    "version": 3
   },
   "file_extension": ".py",
   "mimetype": "text/x-python",
   "name": "python",
   "nbconvert_exporter": "python",
   "pygments_lexer": "ipython3",
   "version": "3.10.4"
  }
 },
 "nbformat": 4,
 "nbformat_minor": 5
}
