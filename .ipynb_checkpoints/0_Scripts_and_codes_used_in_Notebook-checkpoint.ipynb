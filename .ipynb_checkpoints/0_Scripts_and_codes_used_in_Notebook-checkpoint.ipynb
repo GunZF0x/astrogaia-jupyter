{
 "cells": [
  {
   "cell_type": "markdown",
   "id": "f60de3a4",
   "metadata": {},
   "source": [
    "> These are just some codes that I have used to test/run some things and have copy/pasted to get some useful data."
   ]
  },
  {
   "cell_type": "code",
   "execution_count": 1,
   "id": "7b7512dc",
   "metadata": {},
   "outputs": [
    {
     "name": "stdout",
     "output_type": "stream",
     "text": [
      "INFO: Query finished. [astroquery.utils.tap.core]\n",
      "| 0 |solution_id | int64 | -- | Solution Identifier |\n",
      "| 1 |DESIGNATION | object | -- | Unique source designation (unique across all Data Releases) |\n",
      "| 2 |source_id | int64 | -- | Unique source identifier (unique within a particular Data Release) |\n",
      "| 3 |random_index | int64 | -- | Random index used to select subsets |\n",
      "| 4 |ref_epoch | float64 | yr | Reference epoch |\n",
      "| 5 |ra | float64 | deg | Right ascension |\n",
      "| 6 |ra_error | float32 | mas | Standard error of right ascension |\n",
      "| 7 |dec | float64 | deg | Declination |\n",
      "| 8 |dec_error | float32 | mas | Standard error of declination |\n",
      "| 9 |parallax | float64 | mas | Parallax |\n",
      "| 10 |parallax_error | float32 | mas | Standard error of parallax |\n",
      "| 11 |parallax_over_error | float32 | -- | Parallax divided by its standard error |\n",
      "| 12 |pm | float32 | mas / yr | Total proper motion |\n",
      "| 13 |pmra | float64 | mas / yr | Proper motion in right ascension direction |\n",
      "| 14 |pmra_error | float32 | mas / yr | Standard error of proper motion in right ascension direction |\n",
      "| 15 |pmdec | float64 | mas / yr | Proper motion in declination direction |\n",
      "| 16 |pmdec_error | float32 | mas / yr | Standard error of proper motion in declination direction |\n",
      "| 17 |ra_dec_corr | float32 | -- | Correlation between right ascension and declination |\n",
      "| 18 |ra_parallax_corr | float32 | -- | Correlation between right ascension and parallax |\n",
      "| 19 |ra_pmra_corr | float32 | -- | Correlation between right ascension and proper motion in right ascension |\n",
      "| 20 |ra_pmdec_corr | float32 | -- | Correlation between right ascension and proper motion in declination |\n",
      "| 21 |dec_parallax_corr | float32 | -- | Correlation between declination and parallax |\n",
      "| 22 |dec_pmra_corr | float32 | -- | Correlation between declination and proper motion in right ascension |\n",
      "| 23 |dec_pmdec_corr | float32 | -- | Correlation between declination and proper motion in declination |\n",
      "| 24 |parallax_pmra_corr | float32 | -- | Correlation between parallax and proper motion in right ascension |\n",
      "| 25 |parallax_pmdec_corr | float32 | -- | Correlation between parallax and proper motion in declination |\n",
      "| 26 |pmra_pmdec_corr | float32 | -- | Correlation between proper motion in right ascension and proper motion in declination |\n",
      "| 27 |astrometric_n_obs_al | int16 | -- | Total number of observations AL |\n",
      "| 28 |astrometric_n_obs_ac | int16 | -- | Total number of observations AC |\n",
      "| 29 |astrometric_n_good_obs_al | int16 | -- | Number of good observations AL |\n",
      "| 30 |astrometric_n_bad_obs_al | int16 | -- | Number of bad observations AL |\n",
      "| 31 |astrometric_gof_al | float32 | -- | Goodness of fit statistic of model wrt along-scan observations |\n",
      "| 32 |astrometric_chi2_al | float32 | -- | AL chi-square value |\n",
      "| 33 |astrometric_excess_noise | float32 | mas | Excess noise of the source |\n",
      "| 34 |astrometric_excess_noise_sig | float32 | -- | Significance of excess noise |\n",
      "| 35 |astrometric_params_solved | int16 | -- | Which parameters have been solved for? |\n",
      "| 36 |astrometric_primary_flag | bool | -- | Primary or seconday |\n",
      "| 37 |nu_eff_used_in_astrometry | float32 | 1 / um | Effective wavenumber of the source used in the astrometric solution |\n",
      "| 38 |pseudocolour | float32 | 1 / um | Astrometrically estimated pseudocolour of the source |\n",
      "| 39 |pseudocolour_error | float32 | 1 / um | Standard error of the pseudocolour of the source |\n",
      "| 40 |ra_pseudocolour_corr | float32 | -- | Correlation between right ascension and pseudocolour |\n",
      "| 41 |dec_pseudocolour_corr | float32 | -- | Correlation between declination and pseudocolour |\n",
      "| 42 |parallax_pseudocolour_corr | float32 | -- | Correlation between parallax and pseudocolour |\n",
      "| 43 |pmra_pseudocolour_corr | float32 | -- | Correlation between proper motion in right asension and pseudocolour |\n",
      "| 44 |pmdec_pseudocolour_corr | float32 | -- | Correlation between proper motion in declination and pseudocolour |\n",
      "| 45 |astrometric_matched_transits | int16 | -- | Matched FOV transits used in the AGIS solution |\n",
      "| 46 |visibility_periods_used | int16 | -- | Number of visibility periods used in Astrometric solution |\n",
      "| 47 |astrometric_sigma5d_max | float32 | mas | The longest semi-major axis of the 5-d error ellipsoid |\n",
      "| 48 |matched_transits | int16 | -- | The number of transits matched to this source |\n",
      "| 49 |new_matched_transits | int16 | -- | The number of transits newly incorporated into an existing source in the current cycle |\n",
      "| 50 |matched_transits_removed | int16 | -- | The number of transits removed from an existing source in the current cycle |\n",
      "| 51 |ipd_gof_harmonic_amplitude | float32 | -- | Amplitude of the IPD GoF versus position angle of scan |\n",
      "| 52 |ipd_gof_harmonic_phase | float32 | deg | Phase of the IPD GoF versus position angle of scan |\n",
      "| 53 |ipd_frac_multi_peak | int16 | -- | Percent of successful-IPD windows with more than one peak |\n",
      "| 54 |ipd_frac_odd_win | int16 | -- | Percent of transits with truncated windows or multiple gate |\n",
      "| 55 |ruwe | float32 | -- | Renormalised unit weight error |\n",
      "| 56 |scan_direction_strength_k1 | float32 | -- | Degree of concentration of scan directions across the source |\n",
      "| 57 |scan_direction_strength_k2 | float32 | -- | Degree of concentration of scan directions across the source |\n",
      "| 58 |scan_direction_strength_k3 | float32 | -- | Degree of concentration of scan directions across the source |\n",
      "| 59 |scan_direction_strength_k4 | float32 | -- | Degree of concentration of scan directions across the source |\n",
      "| 60 |scan_direction_mean_k1 | float32 | deg | Mean position angle of scan directions across the source |\n",
      "| 61 |scan_direction_mean_k2 | float32 | deg | Mean position angle of scan directions across the source |\n",
      "| 62 |scan_direction_mean_k3 | float32 | deg | Mean position angle of scan directions across the source |\n",
      "| 63 |scan_direction_mean_k4 | float32 | deg | Mean position angle of scan directions across the source |\n",
      "| 64 |duplicated_source | bool | -- | Source with multiple source identifiers |\n",
      "| 65 |phot_g_n_obs | int16 | -- | Number of observations contributing to G photometry |\n",
      "| 66 |phot_g_mean_flux | float64 | electron / s | G-band mean flux |\n",
      "| 67 |phot_g_mean_flux_error | float32 | electron / s | Error on G-band mean flux |\n",
      "| 68 |phot_g_mean_flux_over_error | float32 | -- | G-band mean flux divided by its error |\n",
      "| 69 |phot_g_mean_mag | float32 | mag | G-band mean magnitude |\n",
      "| 70 |phot_bp_n_obs | int16 | -- | Number of observations contributing to BP photometry |\n",
      "| 71 |phot_bp_mean_flux | float64 | electron / s | Integrated BP mean flux |\n",
      "| 72 |phot_bp_mean_flux_error | float32 | electron / s | Error on the integrated BP mean flux |\n",
      "| 73 |phot_bp_mean_flux_over_error | float32 | -- | Integrated BP mean flux divided by its error |\n",
      "| 74 |phot_bp_mean_mag | float32 | mag | Integrated BP mean magnitude |\n",
      "| 75 |phot_rp_n_obs | int16 | -- | Number of observations contributing to RP photometry |\n",
      "| 76 |phot_rp_mean_flux | float64 | electron / s | Integrated RP mean flux |\n",
      "| 77 |phot_rp_mean_flux_error | float32 | electron / s | Error on the integrated RP mean flux |\n",
      "| 78 |phot_rp_mean_flux_over_error | float32 | -- | Integrated RP mean flux divided by its error |\n",
      "| 79 |phot_rp_mean_mag | float32 | mag | Integrated RP mean magnitude |\n",
      "| 80 |phot_bp_n_contaminated_transits | int16 | -- | Number of BP contaminated transits |\n",
      "| 81 |phot_bp_n_blended_transits | int16 | -- | Number of BP blended transits |\n",
      "| 82 |phot_rp_n_contaminated_transits | int16 | -- | Number of RP contaminated transits |\n",
      "| 83 |phot_rp_n_blended_transits | int16 | -- | Number of RP blended transits |\n",
      "| 84 |phot_proc_mode | int16 | -- | Photometry processing mode |\n",
      "| 85 |phot_bp_rp_excess_factor | float32 | -- | BP/RP excess factor |\n",
      "| 86 |bp_rp | float32 | mag | BP - RP colour |\n",
      "| 87 |bp_g | float32 | mag | BP - G colour |\n",
      "| 88 |g_rp | float32 | mag | G - RP colour |\n",
      "| 89 |dr2_radial_velocity | float32 | km / s | Radial velocity from Gaia DR2 |\n",
      "| 90 |dr2_radial_velocity_error | float32 | km / s | Radial velocity error from Gaia DR2 |\n",
      "| 91 |dr2_rv_nb_transits | int16 | -- | Number of transits used to compute radial velocity in Gaia DR2 |\n",
      "| 92 |dr2_rv_template_teff | float32 | K | Teff of the template used to compute radial velocity in Gaia DR2 |\n",
      "| 93 |dr2_rv_template_logg | float32 | log(cm.s**-2) | logg of the template used to compute radial velocity in Gaia DR2 |\n",
      "| 94 |dr2_rv_template_fe_h | float32 | dex | Fe/H of the template used to compute radial velocity in Gaia DR2 |\n",
      "| 95 |l | float64 | deg | Galactic longitude |\n",
      "| 96 |b | float64 | deg | Galactic latitude |\n",
      "| 97 |ecl_lon | float64 | deg | Ecliptic longitude |\n",
      "| 98 |ecl_lat | float64 | deg | Ecliptic latitude |\n",
      "| 99 |dist | float64 | -- | None |\n",
      "\n"
     ]
    }
   ],
   "source": [
    "### Print ready to copy/paste table (Markdown format)\n",
    "\n",
    "import astropy.units as u\n",
    "from astropy.coordinates import SkyCoord\n",
    "from astroquery.gaia import Gaia\n",
    "\n",
    "### Get data via Astroquery\n",
    "Gaia.MAIN_GAIA_TABLE = \"gaiaedr3.gaia_source\" # Select early Data Release 3\n",
    "Gaia.ROW_LIMIT = 10  # Set the number of max rows; -1 means 'no limit'\n",
    "\n",
    "### Check coordinates for your object\n",
    "### Important to check/edit before running the cell\n",
    "coord = SkyCoord(ra=280, dec=-60, unit=(u.degree, u.degree), frame='icrs')\n",
    "radius = u.Quantity(1.0, u.deg)\n",
    "j = Gaia.cone_search_async(coord, radius)\n",
    "\n",
    "### Print every column with its respective info. Copy/paste it into Markdown format to get a table\n",
    "r = j.get_results()\n",
    "\n",
    "output = \"\"\n",
    "for j in range(0, len(r.colnames)):\n",
    "    prop = r.colnames[j]\n",
    "    \n",
    "    if r[prop].info.unit == None:\n",
    "        r[prop].info.unit = \"--\"\n",
    "    \n",
    "    output += f\"| {j} |{r[prop].info.name} | {r[prop].info.dtype} | {r[prop].info.unit} | {r[prop].info.description} |\\n\"\n",
    "    \n",
    "print(output)"
   ]
  },
  {
   "cell_type": "code",
   "execution_count": 1,
   "id": "436688b0",
   "metadata": {},
   "outputs": [
    {
     "name": "stdout",
     "output_type": "stream",
     "text": [
      "3.10.4\n"
     ]
    }
   ],
   "source": [
    "from platform import python_version\n",
    "\n",
    "print(python_version())\n"
   ]
  },
  {
   "cell_type": "code",
   "execution_count": 2,
   "id": "e6d84a35",
   "metadata": {},
   "outputs": [
    {
     "ename": "KeyError",
     "evalue": "'name'",
     "output_type": "error",
     "traceback": [
      "\u001b[0;31m---------------------------------------------------------------------------\u001b[0m",
      "\u001b[0;31mKeyError\u001b[0m                                  Traceback (most recent call last)",
      "Input \u001b[0;32mIn [2]\u001b[0m, in \u001b[0;36m<cell line: 16>\u001b[0;34m()\u001b[0m\n\u001b[1;32m     12\u001b[0m response_dict \u001b[38;5;241m=\u001b[39m json\u001b[38;5;241m.\u001b[39mloads(\u001b[38;5;124m'\u001b[39m\u001b[38;5;124m{\u001b[39m\u001b[38;5;124m\"\u001b[39m\u001b[38;5;124mresponse\u001b[39m\u001b[38;5;124m\"\u001b[39m\u001b[38;5;124m: \u001b[39m\u001b[38;5;124m{\u001b[39m\u001b[38;5;124m\"\u001b[39m\u001b[38;5;124mperson\u001b[39m\u001b[38;5;124m\"\u001b[39m\u001b[38;5;124m: \u001b[39m\u001b[38;5;124m{\u001b[39m\u001b[38;5;124m\"\u001b[39m\u001b[38;5;124mname\u001b[39m\u001b[38;5;124m\"\u001b[39m\u001b[38;5;124m: \u001b[39m\u001b[38;5;124m\"\u001b[39m\u001b[38;5;124mlidatong\u001b[39m\u001b[38;5;124m\"\u001b[39m\u001b[38;5;124m}}}\u001b[39m\u001b[38;5;124m'\u001b[39m)\n\u001b[1;32m     14\u001b[0m person_dict \u001b[38;5;241m=\u001b[39m response_dict[\u001b[38;5;124m'\u001b[39m\u001b[38;5;124mresponse\u001b[39m\u001b[38;5;124m'\u001b[39m]\n\u001b[0;32m---> 16\u001b[0m person \u001b[38;5;241m=\u001b[39m \u001b[43mPerson\u001b[49m\u001b[38;5;241;43m.\u001b[39;49m\u001b[43mfrom_dict\u001b[49m\u001b[43m(\u001b[49m\u001b[43mperson_dict\u001b[49m\u001b[43m)\u001b[49m\n",
      "File \u001b[0;32m~/.local/lib/python3.10/site-packages/dataclasses_json/api.py:72\u001b[0m, in \u001b[0;36mDataClassJsonMixin.from_dict\u001b[0;34m(cls, kvs, infer_missing)\u001b[0m\n\u001b[1;32m     67\u001b[0m \u001b[38;5;129m@classmethod\u001b[39m\n\u001b[1;32m     68\u001b[0m \u001b[38;5;28;01mdef\u001b[39;00m \u001b[38;5;21mfrom_dict\u001b[39m(\u001b[38;5;28mcls\u001b[39m: Type[A],\n\u001b[1;32m     69\u001b[0m               kvs: Json,\n\u001b[1;32m     70\u001b[0m               \u001b[38;5;241m*\u001b[39m,\n\u001b[1;32m     71\u001b[0m               infer_missing\u001b[38;5;241m=\u001b[39m\u001b[38;5;28;01mFalse\u001b[39;00m) \u001b[38;5;241m-\u001b[39m\u001b[38;5;241m>\u001b[39m A:\n\u001b[0;32m---> 72\u001b[0m     \u001b[38;5;28;01mreturn\u001b[39;00m \u001b[43m_decode_dataclass\u001b[49m\u001b[43m(\u001b[49m\u001b[38;5;28;43mcls\u001b[39;49m\u001b[43m,\u001b[49m\u001b[43m \u001b[49m\u001b[43mkvs\u001b[49m\u001b[43m,\u001b[49m\u001b[43m \u001b[49m\u001b[43minfer_missing\u001b[49m\u001b[43m)\u001b[49m\n",
      "File \u001b[0;32m~/.local/lib/python3.10/site-packages/dataclasses_json/core.py:159\u001b[0m, in \u001b[0;36m_decode_dataclass\u001b[0;34m(cls, kvs, infer_missing)\u001b[0m\n\u001b[1;32m    156\u001b[0m \u001b[38;5;28;01mif\u001b[39;00m \u001b[38;5;129;01mnot\u001b[39;00m field\u001b[38;5;241m.\u001b[39minit:\n\u001b[1;32m    157\u001b[0m     \u001b[38;5;28;01mcontinue\u001b[39;00m\n\u001b[0;32m--> 159\u001b[0m field_value \u001b[38;5;241m=\u001b[39m \u001b[43mkvs\u001b[49m\u001b[43m[\u001b[49m\u001b[43mfield\u001b[49m\u001b[38;5;241;43m.\u001b[39;49m\u001b[43mname\u001b[49m\u001b[43m]\u001b[49m\n\u001b[1;32m    160\u001b[0m field_type \u001b[38;5;241m=\u001b[39m types[field\u001b[38;5;241m.\u001b[39mname]\n\u001b[1;32m    161\u001b[0m \u001b[38;5;28;01mif\u001b[39;00m field_value \u001b[38;5;129;01mis\u001b[39;00m \u001b[38;5;28;01mNone\u001b[39;00m \u001b[38;5;129;01mand\u001b[39;00m \u001b[38;5;129;01mnot\u001b[39;00m _is_optional(field_type):\n",
      "\u001b[0;31mKeyError\u001b[0m: 'name'"
     ]
    }
   ],
   "source": [
    "\n",
    "\n",
    "\n",
    "from dataclasses import dataclass\n",
    "from dataclasses_json import dataclass_json\n",
    "\n",
    "@dataclass_json\n",
    "@dataclass\n",
    "class Person:\n",
    "    name: str\n",
    "        \n",
    "response_dict = json.loads('{\"response\": {\"person\": {\"name\": \"lidatong\"}}}')\n",
    "\n",
    "person_dict = response_dict['response']\n",
    "\n",
    "person = Person.from_dict(person_dict)"
   ]
  },
  {
   "cell_type": "code",
   "execution_count": 29,
   "id": "2ac09afd",
   "metadata": {},
   "outputs": [
    {
     "name": "stdout",
     "output_type": "stream",
     "text": [
      "{'globular_cluster': {'name': 'NGC104', 'PM_plot_x_axis_min': -2.0, 'PM_plot_x_axis_max': 10.0, 'PM_plot_y_axis_min': -8.0, 'PM_plot_y_axis_max': 4.0}}\n"
     ]
    }
   ],
   "source": [
    "#Read a JSON file\n",
    "import json\n",
    "from types import SimpleNamespace\n",
    "\n",
    "json_file_path = \"example.json\"\n",
    "\n",
    "with open(json_file_path, 'r') as j:\n",
    "     data = json.loads(j.read())\n",
    "\n",
    "print(data)"
   ]
  },
  {
   "cell_type": "code",
   "execution_count": 37,
   "id": "c406c40a",
   "metadata": {},
   "outputs": [
    {
     "name": "stdout",
     "output_type": "stream",
     "text": [
      "{'globular_cluster': {'name': 'NGC104', 'PM_plot_x_axis_min': -2.0, 'PM_plot_x_axis_max': 10.0, 'PM_plot_y_axis_min': -8.0, 'PM_plot_y_axis_max': 4.0}}\n"
     ]
    },
    {
     "ename": "TypeError",
     "evalue": "the JSON object must be str, bytes or bytearray, not dict",
     "output_type": "error",
     "traceback": [
      "\u001b[0;31m---------------------------------------------------------------------------\u001b[0m",
      "\u001b[0;31mTypeError\u001b[0m                                 Traceback (most recent call last)",
      "Input \u001b[0;32mIn [37]\u001b[0m, in \u001b[0;36m<cell line: 18>\u001b[0;34m()\u001b[0m\n\u001b[1;32m     16\u001b[0m people_json \u001b[38;5;241m=\u001b[39m data\n\u001b[1;32m     17\u001b[0m \u001b[38;5;28mprint\u001b[39m(data)\n\u001b[0;32m---> 18\u001b[0m \u001b[43mPerson\u001b[49m\u001b[38;5;241;43m.\u001b[39;49m\u001b[43mschema\u001b[49m\u001b[43m(\u001b[49m\u001b[43m)\u001b[49m\u001b[38;5;241;43m.\u001b[39;49m\u001b[43mloads\u001b[49m\u001b[43m(\u001b[49m\u001b[43mpeople_json\u001b[49m\u001b[43m,\u001b[49m\u001b[43m \u001b[49m\u001b[43mmany\u001b[49m\u001b[38;5;241;43m=\u001b[39;49m\u001b[38;5;28;43;01mTrue\u001b[39;49;00m\u001b[43m)\u001b[49m\n",
      "File \u001b[0;32m~/.local/lib/python3.10/site-packages/marshmallow/schema.py:755\u001b[0m, in \u001b[0;36mSchema.loads\u001b[0;34m(self, json_data, many, partial, unknown, **kwargs)\u001b[0m\n\u001b[1;32m    726\u001b[0m \u001b[38;5;28;01mdef\u001b[39;00m \u001b[38;5;21mloads\u001b[39m(\n\u001b[1;32m    727\u001b[0m     \u001b[38;5;28mself\u001b[39m,\n\u001b[1;32m    728\u001b[0m     json_data: \u001b[38;5;28mstr\u001b[39m,\n\u001b[0;32m   (...)\u001b[0m\n\u001b[1;32m    733\u001b[0m     \u001b[38;5;241m*\u001b[39m\u001b[38;5;241m*\u001b[39mkwargs,\n\u001b[1;32m    734\u001b[0m ):\n\u001b[1;32m    735\u001b[0m     \u001b[38;5;124;03m\"\"\"Same as :meth:`load`, except it takes a JSON string as input.\u001b[39;00m\n\u001b[1;32m    736\u001b[0m \n\u001b[1;32m    737\u001b[0m \u001b[38;5;124;03m    :param json_data: A JSON string of the data to deserialize.\u001b[39;00m\n\u001b[0;32m   (...)\u001b[0m\n\u001b[1;32m    753\u001b[0m \u001b[38;5;124;03m        if invalid data are passed.\u001b[39;00m\n\u001b[1;32m    754\u001b[0m \u001b[38;5;124;03m    \"\"\"\u001b[39;00m\n\u001b[0;32m--> 755\u001b[0m     data \u001b[38;5;241m=\u001b[39m \u001b[38;5;28;43mself\u001b[39;49m\u001b[38;5;241;43m.\u001b[39;49m\u001b[43mopts\u001b[49m\u001b[38;5;241;43m.\u001b[39;49m\u001b[43mrender_module\u001b[49m\u001b[38;5;241;43m.\u001b[39;49m\u001b[43mloads\u001b[49m\u001b[43m(\u001b[49m\u001b[43mjson_data\u001b[49m\u001b[43m,\u001b[49m\u001b[43m \u001b[49m\u001b[38;5;241;43m*\u001b[39;49m\u001b[38;5;241;43m*\u001b[39;49m\u001b[43mkwargs\u001b[49m\u001b[43m)\u001b[49m\n\u001b[1;32m    756\u001b[0m     \u001b[38;5;28;01mreturn\u001b[39;00m \u001b[38;5;28mself\u001b[39m\u001b[38;5;241m.\u001b[39mload(data, many\u001b[38;5;241m=\u001b[39mmany, partial\u001b[38;5;241m=\u001b[39mpartial, unknown\u001b[38;5;241m=\u001b[39munknown)\n",
      "File \u001b[0;32m/usr/lib/python3.10/json/__init__.py:339\u001b[0m, in \u001b[0;36mloads\u001b[0;34m(s, cls, object_hook, parse_float, parse_int, parse_constant, object_pairs_hook, **kw)\u001b[0m\n\u001b[1;32m    337\u001b[0m \u001b[38;5;28;01melse\u001b[39;00m:\n\u001b[1;32m    338\u001b[0m     \u001b[38;5;28;01mif\u001b[39;00m \u001b[38;5;129;01mnot\u001b[39;00m \u001b[38;5;28misinstance\u001b[39m(s, (\u001b[38;5;28mbytes\u001b[39m, \u001b[38;5;28mbytearray\u001b[39m)):\n\u001b[0;32m--> 339\u001b[0m         \u001b[38;5;28;01mraise\u001b[39;00m \u001b[38;5;167;01mTypeError\u001b[39;00m(\u001b[38;5;124mf\u001b[39m\u001b[38;5;124m'\u001b[39m\u001b[38;5;124mthe JSON object must be str, bytes or bytearray, \u001b[39m\u001b[38;5;124m'\u001b[39m\n\u001b[1;32m    340\u001b[0m                         \u001b[38;5;124mf\u001b[39m\u001b[38;5;124m'\u001b[39m\u001b[38;5;124mnot \u001b[39m\u001b[38;5;132;01m{\u001b[39;00ms\u001b[38;5;241m.\u001b[39m\u001b[38;5;18m__class__\u001b[39m\u001b[38;5;241m.\u001b[39m\u001b[38;5;18m__name__\u001b[39m\u001b[38;5;132;01m}\u001b[39;00m\u001b[38;5;124m'\u001b[39m)\n\u001b[1;32m    341\u001b[0m     s \u001b[38;5;241m=\u001b[39m s\u001b[38;5;241m.\u001b[39mdecode(detect_encoding(s), \u001b[38;5;124m'\u001b[39m\u001b[38;5;124msurrogatepass\u001b[39m\u001b[38;5;124m'\u001b[39m)\n\u001b[1;32m    343\u001b[0m \u001b[38;5;28;01mif\u001b[39;00m (\u001b[38;5;28mcls\u001b[39m \u001b[38;5;129;01mis\u001b[39;00m \u001b[38;5;28;01mNone\u001b[39;00m \u001b[38;5;129;01mand\u001b[39;00m object_hook \u001b[38;5;129;01mis\u001b[39;00m \u001b[38;5;28;01mNone\u001b[39;00m \u001b[38;5;129;01mand\u001b[39;00m\n\u001b[1;32m    344\u001b[0m         parse_int \u001b[38;5;129;01mis\u001b[39;00m \u001b[38;5;28;01mNone\u001b[39;00m \u001b[38;5;129;01mand\u001b[39;00m parse_float \u001b[38;5;129;01mis\u001b[39;00m \u001b[38;5;28;01mNone\u001b[39;00m \u001b[38;5;129;01mand\u001b[39;00m\n\u001b[1;32m    345\u001b[0m         parse_constant \u001b[38;5;129;01mis\u001b[39;00m \u001b[38;5;28;01mNone\u001b[39;00m \u001b[38;5;129;01mand\u001b[39;00m object_pairs_hook \u001b[38;5;129;01mis\u001b[39;00m \u001b[38;5;28;01mNone\u001b[39;00m \u001b[38;5;129;01mand\u001b[39;00m \u001b[38;5;129;01mnot\u001b[39;00m kw):\n",
      "\u001b[0;31mTypeError\u001b[0m: the JSON object must be str, bytes or bytearray, not dict"
     ]
    }
   ],
   "source": [
    "from dataclasses import dataclass\n",
    "from dataclasses_json import dataclass_json\n",
    "\n",
    "@dataclass\n",
    "class PersonsList:\n",
    "    lista: list('Person')\n",
    "\n",
    "@dataclass_json\n",
    "@dataclass\n",
    "class Person:\n",
    "    name: str\n",
    "        \n",
    "#people_json = [Person('lidatong'), Person('holi')]\n",
    "#Person.schema().dumps(people_json, many=True)  # '[{\"name\": \"lidatong\"}]'\n",
    "\n",
    "people_json = data\n",
    "print(data)\n",
    "Person.schema().loads(people_json, many=True)  # [Person(name='lidatong')]"
   ]
  },
  {
   "cell_type": "code",
   "execution_count": 47,
   "id": "fa042720",
   "metadata": {},
   "outputs": [
    {
     "ename": "JSONDecodeError",
     "evalue": "Expecting property name enclosed in double quotes: line 1 column 34 (char 33)",
     "output_type": "error",
     "traceback": [
      "\u001b[0;31m---------------------------------------------------------------------------\u001b[0m",
      "\u001b[0;31mJSONDecodeError\u001b[0m                           Traceback (most recent call last)",
      "Input \u001b[0;32mIn [47]\u001b[0m, in \u001b[0;36m<cell line: 14>\u001b[0;34m()\u001b[0m\n\u001b[1;32m      9\u001b[0m \u001b[38;5;129m@dataclass_json\u001b[39m\n\u001b[1;32m     10\u001b[0m \u001b[38;5;129m@dataclass\u001b[39m\n\u001b[1;32m     11\u001b[0m \u001b[38;5;28;01mclass\u001b[39;00m \u001b[38;5;21;01mPerson\u001b[39;00m:\n\u001b[1;32m     12\u001b[0m     name: \u001b[38;5;28mstr\u001b[39m\n\u001b[0;32m---> 14\u001b[0m response_dict \u001b[38;5;241m=\u001b[39m \u001b[43mjson\u001b[49m\u001b[38;5;241;43m.\u001b[39;49m\u001b[43mloads\u001b[49m\u001b[43m(\u001b[49m\u001b[38;5;124;43m'\u001b[39;49m\u001b[38;5;124;43m{\u001b[39;49m\u001b[38;5;124;43m\"\u001b[39;49m\u001b[38;5;124;43mperson\u001b[39;49m\u001b[38;5;124;43m\"\u001b[39;49m\u001b[38;5;124;43m: \u001b[39;49m\u001b[38;5;124;43m{\u001b[39;49m\u001b[38;5;124;43m\"\u001b[39;49m\u001b[38;5;124;43mname\u001b[39;49m\u001b[38;5;124;43m\"\u001b[39;49m\u001b[38;5;124;43m: \u001b[39;49m\u001b[38;5;124;43m\"\u001b[39;49m\u001b[38;5;124;43mlidatong\u001b[39;49m\u001b[38;5;124;43m\"\u001b[39;49m\u001b[38;5;124;43m}, \u001b[39;49m\u001b[38;5;124;43m{\u001b[39;49m\u001b[38;5;124;43m\"\u001b[39;49m\u001b[38;5;124;43mname\u001b[39;49m\u001b[38;5;124;43m\"\u001b[39;49m\u001b[38;5;124;43m: \u001b[39;49m\u001b[38;5;124;43m\"\u001b[39;49m\u001b[38;5;124;43mholi\u001b[39;49m\u001b[38;5;124;43m\"\u001b[39;49m\u001b[38;5;124;43m}}\u001b[39;49m\u001b[38;5;124;43m'\u001b[39;49m\u001b[43m)\u001b[49m\n\u001b[1;32m     16\u001b[0m person_dict \u001b[38;5;241m=\u001b[39m response_dict[\u001b[38;5;124m'\u001b[39m\u001b[38;5;124mperson\u001b[39m\u001b[38;5;124m'\u001b[39m]\n\u001b[1;32m     18\u001b[0m \u001b[38;5;28mprint\u001b[39m(person_dict)\n",
      "File \u001b[0;32m/usr/lib/python3.10/json/__init__.py:346\u001b[0m, in \u001b[0;36mloads\u001b[0;34m(s, cls, object_hook, parse_float, parse_int, parse_constant, object_pairs_hook, **kw)\u001b[0m\n\u001b[1;32m    341\u001b[0m     s \u001b[38;5;241m=\u001b[39m s\u001b[38;5;241m.\u001b[39mdecode(detect_encoding(s), \u001b[38;5;124m'\u001b[39m\u001b[38;5;124msurrogatepass\u001b[39m\u001b[38;5;124m'\u001b[39m)\n\u001b[1;32m    343\u001b[0m \u001b[38;5;28;01mif\u001b[39;00m (\u001b[38;5;28mcls\u001b[39m \u001b[38;5;129;01mis\u001b[39;00m \u001b[38;5;28;01mNone\u001b[39;00m \u001b[38;5;129;01mand\u001b[39;00m object_hook \u001b[38;5;129;01mis\u001b[39;00m \u001b[38;5;28;01mNone\u001b[39;00m \u001b[38;5;129;01mand\u001b[39;00m\n\u001b[1;32m    344\u001b[0m         parse_int \u001b[38;5;129;01mis\u001b[39;00m \u001b[38;5;28;01mNone\u001b[39;00m \u001b[38;5;129;01mand\u001b[39;00m parse_float \u001b[38;5;129;01mis\u001b[39;00m \u001b[38;5;28;01mNone\u001b[39;00m \u001b[38;5;129;01mand\u001b[39;00m\n\u001b[1;32m    345\u001b[0m         parse_constant \u001b[38;5;129;01mis\u001b[39;00m \u001b[38;5;28;01mNone\u001b[39;00m \u001b[38;5;129;01mand\u001b[39;00m object_pairs_hook \u001b[38;5;129;01mis\u001b[39;00m \u001b[38;5;28;01mNone\u001b[39;00m \u001b[38;5;129;01mand\u001b[39;00m \u001b[38;5;129;01mnot\u001b[39;00m kw):\n\u001b[0;32m--> 346\u001b[0m     \u001b[38;5;28;01mreturn\u001b[39;00m \u001b[43m_default_decoder\u001b[49m\u001b[38;5;241;43m.\u001b[39;49m\u001b[43mdecode\u001b[49m\u001b[43m(\u001b[49m\u001b[43ms\u001b[49m\u001b[43m)\u001b[49m\n\u001b[1;32m    347\u001b[0m \u001b[38;5;28;01mif\u001b[39;00m \u001b[38;5;28mcls\u001b[39m \u001b[38;5;129;01mis\u001b[39;00m \u001b[38;5;28;01mNone\u001b[39;00m:\n\u001b[1;32m    348\u001b[0m     \u001b[38;5;28mcls\u001b[39m \u001b[38;5;241m=\u001b[39m JSONDecoder\n",
      "File \u001b[0;32m/usr/lib/python3.10/json/decoder.py:337\u001b[0m, in \u001b[0;36mJSONDecoder.decode\u001b[0;34m(self, s, _w)\u001b[0m\n\u001b[1;32m    332\u001b[0m \u001b[38;5;28;01mdef\u001b[39;00m \u001b[38;5;21mdecode\u001b[39m(\u001b[38;5;28mself\u001b[39m, s, _w\u001b[38;5;241m=\u001b[39mWHITESPACE\u001b[38;5;241m.\u001b[39mmatch):\n\u001b[1;32m    333\u001b[0m     \u001b[38;5;124;03m\"\"\"Return the Python representation of ``s`` (a ``str`` instance\u001b[39;00m\n\u001b[1;32m    334\u001b[0m \u001b[38;5;124;03m    containing a JSON document).\u001b[39;00m\n\u001b[1;32m    335\u001b[0m \n\u001b[1;32m    336\u001b[0m \u001b[38;5;124;03m    \"\"\"\u001b[39;00m\n\u001b[0;32m--> 337\u001b[0m     obj, end \u001b[38;5;241m=\u001b[39m \u001b[38;5;28;43mself\u001b[39;49m\u001b[38;5;241;43m.\u001b[39;49m\u001b[43mraw_decode\u001b[49m\u001b[43m(\u001b[49m\u001b[43ms\u001b[49m\u001b[43m,\u001b[49m\u001b[43m \u001b[49m\u001b[43midx\u001b[49m\u001b[38;5;241;43m=\u001b[39;49m\u001b[43m_w\u001b[49m\u001b[43m(\u001b[49m\u001b[43ms\u001b[49m\u001b[43m,\u001b[49m\u001b[43m \u001b[49m\u001b[38;5;241;43m0\u001b[39;49m\u001b[43m)\u001b[49m\u001b[38;5;241;43m.\u001b[39;49m\u001b[43mend\u001b[49m\u001b[43m(\u001b[49m\u001b[43m)\u001b[49m\u001b[43m)\u001b[49m\n\u001b[1;32m    338\u001b[0m     end \u001b[38;5;241m=\u001b[39m _w(s, end)\u001b[38;5;241m.\u001b[39mend()\n\u001b[1;32m    339\u001b[0m     \u001b[38;5;28;01mif\u001b[39;00m end \u001b[38;5;241m!=\u001b[39m \u001b[38;5;28mlen\u001b[39m(s):\n",
      "File \u001b[0;32m/usr/lib/python3.10/json/decoder.py:353\u001b[0m, in \u001b[0;36mJSONDecoder.raw_decode\u001b[0;34m(self, s, idx)\u001b[0m\n\u001b[1;32m    344\u001b[0m \u001b[38;5;124;03m\"\"\"Decode a JSON document from ``s`` (a ``str`` beginning with\u001b[39;00m\n\u001b[1;32m    345\u001b[0m \u001b[38;5;124;03ma JSON document) and return a 2-tuple of the Python\u001b[39;00m\n\u001b[1;32m    346\u001b[0m \u001b[38;5;124;03mrepresentation and the index in ``s`` where the document ended.\u001b[39;00m\n\u001b[0;32m   (...)\u001b[0m\n\u001b[1;32m    350\u001b[0m \n\u001b[1;32m    351\u001b[0m \u001b[38;5;124;03m\"\"\"\u001b[39;00m\n\u001b[1;32m    352\u001b[0m \u001b[38;5;28;01mtry\u001b[39;00m:\n\u001b[0;32m--> 353\u001b[0m     obj, end \u001b[38;5;241m=\u001b[39m \u001b[38;5;28;43mself\u001b[39;49m\u001b[38;5;241;43m.\u001b[39;49m\u001b[43mscan_once\u001b[49m\u001b[43m(\u001b[49m\u001b[43ms\u001b[49m\u001b[43m,\u001b[49m\u001b[43m \u001b[49m\u001b[43midx\u001b[49m\u001b[43m)\u001b[49m\n\u001b[1;32m    354\u001b[0m \u001b[38;5;28;01mexcept\u001b[39;00m \u001b[38;5;167;01mStopIteration\u001b[39;00m \u001b[38;5;28;01mas\u001b[39;00m err:\n\u001b[1;32m    355\u001b[0m     \u001b[38;5;28;01mraise\u001b[39;00m JSONDecodeError(\u001b[38;5;124m\"\u001b[39m\u001b[38;5;124mExpecting value\u001b[39m\u001b[38;5;124m\"\u001b[39m, s, err\u001b[38;5;241m.\u001b[39mvalue) \u001b[38;5;28;01mfrom\u001b[39;00m \u001b[38;5;28mNone\u001b[39m\n",
      "\u001b[0;31mJSONDecodeError\u001b[0m: Expecting property name enclosed in double quotes: line 1 column 34 (char 33)"
     ]
    }
   ],
   "source": [
    "import json\n",
    "from dataclasses_json import dataclass_json\n",
    "\n",
    "@dataclass_json\n",
    "@dataclass\n",
    "class PersonsList:\n",
    "    lista: list('Person')\n",
    "\n",
    "@dataclass_json\n",
    "@dataclass\n",
    "class Person:\n",
    "    name: str\n",
    "\n",
    "response_dict = json.loads('{\"person\": {\"name\": \"lidatong\"}, {\"name\": \"holi\"}}')\n",
    "\n",
    "person_dict = response_dict['person']\n",
    "\n",
    "print(person_dict)\n",
    "\n",
    "#person = PersonsList.from_dict(person_dict)\n",
    "\n",
    "#print(person)"
   ]
  },
  {
   "cell_type": "code",
   "execution_count": 63,
   "id": "e6951375",
   "metadata": {},
   "outputs": [
    {
     "name": "stdout",
     "output_type": "stream",
     "text": [
      "dict_values([{'email': 'acc1@example.com', 'password': 'acc1', 'name': 'ACC1', 'salary': 1}, {'email': 'acc2@example.com', 'password': 'acc2', 'name': 'ACC2', 'salary': 2}])\n",
      "done\n",
      "[Account(email='acc1@example.com', password='acc1', name='ACC1', salary=1), Account(email='acc2@example.com', password='acc2', name='ACC2', salary=2)]\n"
     ]
    }
   ],
   "source": [
    "from dataclasses import dataclass\n",
    "from typing import List\n",
    "\n",
    "data = {\n",
    "    \"acc1\":{\n",
    "        \"email\":\"acc1@example.com\",\n",
    "        \"password\":\"acc1\",\n",
    "        \"name\":\"ACC1\",\n",
    "        \"salary\":1\n",
    "    },\n",
    "    \"acc2\":{\n",
    "        \"email\":\"acc2@example.com\",\n",
    "        \"password\":\"acc2\",\n",
    "        \"name\":\"ACC2\",\n",
    "        \"salary\":2\n",
    "    }\n",
    "\n",
    "}\n",
    "\n",
    "\n",
    "\n",
    "@dataclass\n",
    "class Account:\n",
    "    email:str\n",
    "    password:str\n",
    "    name:str\n",
    "    salary:int\n",
    "\n",
    "print(data.values())\n",
    "\n",
    "print('done')\n",
    "        \n",
    "accounts: List[Account] = [Account(**x) for x in data.values()]\n",
    "print(accounts)\n"
   ]
  },
  {
   "cell_type": "code",
   "execution_count": 64,
   "id": "1503a9e1",
   "metadata": {},
   "outputs": [
    {
     "ename": "ModuleNotFoundError",
     "evalue": "No module named 'dataclass_wizard'",
     "output_type": "error",
     "traceback": [
      "\u001b[0;31m---------------------------------------------------------------------------\u001b[0m",
      "\u001b[0;31mModuleNotFoundError\u001b[0m                       Traceback (most recent call last)",
      "Input \u001b[0;32mIn [64]\u001b[0m, in \u001b[0;36m<cell line: 4>\u001b[0;34m()\u001b[0m\n\u001b[1;32m      1\u001b[0m \u001b[38;5;28;01mfrom\u001b[39;00m \u001b[38;5;21;01mdataclasses\u001b[39;00m \u001b[38;5;28;01mimport\u001b[39;00m dataclass\n\u001b[1;32m      2\u001b[0m \u001b[38;5;28;01mfrom\u001b[39;00m \u001b[38;5;21;01mtyping\u001b[39;00m \u001b[38;5;28;01mimport\u001b[39;00m List \u001b[38;5;28;01mas\u001b[39;00m PyList\n\u001b[0;32m----> 4\u001b[0m \u001b[38;5;28;01mfrom\u001b[39;00m \u001b[38;5;21;01mdataclass_wizard\u001b[39;00m \u001b[38;5;28;01mimport\u001b[39;00m JSONWizard\n\u001b[1;32m      7\u001b[0m \u001b[38;5;129m@dataclass\u001b[39m\n\u001b[1;32m      8\u001b[0m \u001b[38;5;28;01mclass\u001b[39;00m \u001b[38;5;21;01mList\u001b[39;00m(JSONWizard):\n\u001b[1;32m      9\u001b[0m     \u001b[38;5;28mid\u001b[39m: \u001b[38;5;28mint\u001b[39m\n",
      "\u001b[0;31mModuleNotFoundError\u001b[0m: No module named 'dataclass_wizard'"
     ]
    }
   ],
   "source": [
    "from dataclasses import dataclass\n",
    "from typing import List as PyList\n",
    "\n",
    "from dataclass_wizard import JSONWizard\n",
    "\n",
    "\n",
    "@dataclass\n",
    "class List(JSONWizard):\n",
    "    id: int\n",
    "    statuses: PyList['StatusElement']\n",
    "    # on Python 3.9+ you can use the following syntax:\n",
    "    #   statuses: list['StatusElement']\n",
    "\n",
    "\n",
    "@dataclass\n",
    "class StatusElement:\n",
    "    status: str\n",
    "    order_index: int\n",
    "    color: str\n",
    "    type: str\n",
    "\n",
    "\n",
    "json = {\n",
    "  \"id\": \"124\",\n",
    "  \"statuses\": [\n",
    "    {\n",
    "      \"status\": \"to do\",\n",
    "      \"orderIndex\": 0,\n",
    "      \"color\": \"#d3d3d3\",\n",
    "      \"type\": \"open\"\n",
    "    }]\n",
    "}\n",
    "\n",
    "\n",
    "object = List.from_dict(json)\n",
    "\n",
    "print(repr(object))\n",
    "# List(id=124, statuses=[StatusElement(status='to do', order_index=0, color='#d3d3d3', type='open')])"
   ]
  },
  {
   "cell_type": "code",
   "execution_count": null,
   "id": "22a1e90b",
   "metadata": {},
   "outputs": [],
   "source": []
  }
 ],
 "metadata": {
  "kernelspec": {
   "display_name": "Python 3 (ipykernel)",
   "language": "python",
   "name": "python3"
  },
  "language_info": {
   "codemirror_mode": {
    "name": "ipython",
    "version": 3
   },
   "file_extension": ".py",
   "mimetype": "text/x-python",
   "name": "python",
   "nbconvert_exporter": "python",
   "pygments_lexer": "ipython3",
   "version": "3.10.4"
  }
 },
 "nbformat": 4,
 "nbformat_minor": 5
}
